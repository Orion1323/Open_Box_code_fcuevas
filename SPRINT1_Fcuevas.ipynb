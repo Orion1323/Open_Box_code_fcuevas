{
  "nbformat": 4,
  "nbformat_minor": 0,
  "metadata": {
    "colab": {
      "provenance": []
    },
    "kernelspec": {
      "name": "python3",
      "display_name": "Python 3"
    },
    "language_info": {
      "name": "python"
    }
  },
  "cells": [
    {
      "cell_type": "code",
      "execution_count": null,
      "metadata": {
        "id": "osmc6zNQF5Hj"
      },
      "outputs": [],
      "source": []
    },
    {
      "cell_type": "markdown",
      "source": [
        "link_github: https://github.com/Orion1323/Open_Box_code_fcuevas/upload"
      ],
      "metadata": {
        "id": "VTWdyMMZIScb"
      }
    },
    {
      "cell_type": "markdown",
      "source": [
        "# Sprint1 INVENTARIO\n"
      ],
      "metadata": {
        "id": "aM4UYyPIMX0v"
      }
    },
    {
      "cell_type": "markdown",
      "source": [],
      "metadata": {
        "id": "c0v1Ol5-MeJO"
      }
    },
    {
      "cell_type": "code",
      "source": [
        "##########################CLASE PRODUCTO#################################\n",
        "#se utiliza para crear la clase producto\n",
        "# las clases comienzan con Mayúscula, para distinguirlas de los objetos\n",
        "class Producto:\n",
        "\n",
        "#luego se utiliza el constructor init para definir atributos de clase producto,\n",
        "#Usando self, el cual se utiliza para acceder a los atributos y métodos de esa instancia específica\n",
        "  def __init__(self, id, nombre, descripcion, cantidad, precio):\n",
        "    self.id = id\n",
        "    self.nombre = nombre\n",
        "    self.descripcion= descripcion\n",
        "    self.cantidad = cantidad\n",
        "    self.precio = precio\n",
        "#Se define el método de obtener información de los atributos definidos anteriormente. Se utiliza return para retornar los datos del producto\n",
        "  def obtener_informacion(self):\n",
        "    return{\n",
        "      \"id\": self.id,\n",
        "      \"nombre\": self.nombre,\n",
        "      \"descripcion\": self.descripcion,\n",
        "      \"cantidad\": self.cantidad,\n",
        "      \"precio\": self.precio\n",
        "      }\n",
        "\n",
        "# Métodos que actualizan los atributos correspondientes del producto\n",
        "#se actualiza solo el atributo nombre\n",
        "  def actualizar_nombre(self, nombre):\n",
        "    self.nombre = nombre\n",
        "#se actualiza solo el atributo descripción\n",
        "  def actualizar_descripcion(self, descripcion):\n",
        "    self.descripcion = descripcion\n",
        "#se actualiza solo el atributo cantidad\n",
        "  def actualizar_cantidad(self, cantidad):\n",
        "    self.cantidad = cantidad\n",
        "#se actualiza solo el atributo precio\n",
        "  def actualizar_precio(self, precio):\n",
        "    self.precio = precio\n",
        "\n",
        "##########################CLASE INVENTARIO#################################\n",
        "# las clases comienzan con Mayuscula\n",
        "# se utiliza el constructor init para definir  clase Inventario, se definen metodos sin atributos, y se utiliza para manipular\n",
        "# la instancia producto.\n",
        "#Usando self, el cual se utiliza para acceder a los atributos y métodos de esa instancia específica\n",
        "class Inventario:\n",
        "  def __init__(self):\n",
        "    #se define lista de productos. Inicialmente vacia. los corchetes son listas.\n",
        "    self.productos = {}\n",
        "#metodo que agrega el objeto producto a la lista\n",
        "  def agregar_producto (self, producto):\n",
        "    #verifica si el id del producto existe envia mensaje, en su defecto lo agrega.\n",
        "    #la f en print significa que se puede incorporar una variable en el mensaje de salida\n",
        "    if producto.id in self.productos:\n",
        "      print(f\"Producto con id {producto.id} ya existe.\")\n",
        "    else:\n",
        "      self.productos [producto.id] = producto\n",
        "      print(f\"Producto con id {producto.id} agregado al inventario.\")\n",
        "#metodo que elimina el objeto producto de la lista\n",
        "#verifica si el id del producto está en lista se elimina, en su defecto no lo encuentra y envia un mensaje de salida\n",
        "  def eliminar_producto(self, id):\n",
        "    if id in self.productos:\n",
        "      del self.productos[id]\n",
        "      print(f\"Producto con id {id} eliminado del inventario.\")\n",
        "    else:\n",
        "      print(f\"Producto con id {id} no encontrado en el inventario.\")\n",
        "\n",
        "#metodo que actualiza el objeto producto seleccionado por id\n",
        "#verifica si el id del producto está en lista y lo utiliza para un eventual cambio en el valor de algun atributo\n",
        "#se establece que los atributos nombre, descripcion, cantidad, precio se declaran vacios por defecto.\n",
        "#en caso que se ingrese algun valor dejara de ser vacio y se procedera a cambiar dicho valor.\n",
        "\n",
        "  def actualizar_producto(self, id, nombre=None, descripcion=None, cantidad=None, precio=None):\n",
        "    if id in self.productos:\n",
        "        producto= self.productos[id]\n",
        "    if nombre is not None:\n",
        "      producto.actualizar_nombre(nombre)\n",
        "    if descripcion is not None:\n",
        "      producto.actualizar_descripcion(descripcion)\n",
        "    if cantidad is not None:\n",
        "      producto.actualizar_cantidad(cantidad)\n",
        "    if precio is not None:\n",
        "      producto.actualizar_precio(precio)\n",
        "      #al final del metodo alertará el mensaje de que se actualizo el producto del inventario,\n",
        "      # o en su defecto, no se encontro el id del producto en el inventario\n",
        "      print(f\"Producto con id {id} actualizado en el inventario.\")\n",
        "    else:\n",
        "      print(f\"Producto con id {id} no encontrado en el inventario.\")\n",
        "\n",
        "#metodo que obtiene el objeto producto con sus atributos por medio del id.\n",
        "#Busca el id consultado en la lista de productos y si lo encuentra retorna el registro\n",
        "#consultado a traves del metodo obtener información\n",
        "\n",
        "  def obtener_informacion_producto(self, id):\n",
        "    if id in self.productos:\n",
        "      return self.productos[id].obtener_informacion()\n",
        "    else:\n",
        "      return f\"Producto con id {id} no encontrado en el inventario.\"\n",
        "\n",
        "#metodo que recorre la lista de todos los productos del inventario, obteniendo y desplegando\n",
        "#los datos clave valor del diccionario de cada producto\n",
        "  def generar_informe(self):\n",
        "    for producto in self.productos.values():\n",
        "      print(producto.obtener_informacion())\n",
        "\n"
      ],
      "metadata": {
        "id": "36HOBIAiMegO"
      },
      "execution_count": 1,
      "outputs": []
    },
    {
      "cell_type": "markdown",
      "source": [
        "# Funciones adicionales para la interacción con el usuario y manejo de errores"
      ],
      "metadata": {
        "id": "Z1cbrjIfPzXd"
      }
    },
    {
      "cell_type": "code",
      "source": [
        "#Función que permite al usuario seleccionar las acciones a realizar\n",
        "#del sistema de Gestión de Inventario\n",
        "\n",
        "def mostrar_menu():\n",
        "  print(\"\\nSistema de Gestión de Inventario\")\n",
        "  print(\"1. Agregar producto\")\n",
        "  print(\"2. Eliminar producto\")\n",
        "  print(\"3. Actualizar producto\")\n",
        "  print(\"4. Mostrar información de un producto\")\n",
        "  print(\"5. Generar informe del inventario\")\n",
        "  print(\"6. Salir\")\n",
        "  return input(\"Seleccione una opción: \")\n",
        "#Función reutilizable que valida si es entero o no el valor\n",
        "#El función valida la excepción de error en el caso que no se ingrese el valor esperado\n",
        "#según su tipo de dato (en este caso un entero)\n",
        "def obtener_entero(mensaje):\n",
        "  while True:\n",
        "    try:\n",
        "      return int(input(mensaje))\n",
        "    except ValueError:\n",
        "      print(\"Por favor, ingrese un número entero válido.\")\n",
        "#Función reutilizable que valida si es flotante o no el valor\n",
        "#El función valida la excepción de error en el caso que no se ingrese el valor esperado\n",
        "#según su tipo de dato (en este caso un tipo flotante)\n",
        "def obtener_flotante(mensaje):\n",
        "  while True:\n",
        "    try:\n",
        "      return float(input(mensaje))\n",
        "    except ValueError:\n",
        "      print(\"Por favor, ingrese un número flotante válido.\")\n",
        "\n"
      ],
      "metadata": {
        "id": "tWOm3uOwP1H3"
      },
      "execution_count": 2,
      "outputs": []
    },
    {
      "cell_type": "markdown",
      "source": [
        "##Implementación del bucle principal para interactuar con el usuario"
      ],
      "metadata": {
        "id": "iV3h45ViQixY"
      }
    },
    {
      "cell_type": "code",
      "source": [
        "#La siguiente función main definirá las acciones a realizar del sistema, permitiendo el llamado de los distintos metodos definidos anteriormente\n",
        "def main():\n",
        "  #en primer lugar se instancia la clase Inventario a traves del objeto inventario\n",
        "  inventario =Inventario()\n",
        "  #Aquí se define las opciones que el usuario podrá seleccionar dentro del menú\n",
        "  #mientras sea verdadero el parametro ingresado mostrará la funcion mostrar_menu\n",
        "  while True:\n",
        "    opcion = mostrar_menu()\n",
        "    #si la opción es igual 1 entonces invocara el metodo agregar_producto al inventario\n",
        "    #tambien se invocan las funciones reutilizables de obtener_entero y obtener_flotante\n",
        "    if opcion=='1':\n",
        "      id = obtener_entero(\"ID del producto: \")\n",
        "      nombre= input(\"Nombre del producto: \")\n",
        "      descripcion = input(\"Descripción del producto: \")\n",
        "      cantidad = obtener_entero(\"Cantidad: \")\n",
        "      precio =obtener_flotante(\"Precio: \")\n",
        "      producto =Producto(id, nombre, descripcion, cantidad, precio)\n",
        "      inventario.agregar_producto(producto)\n",
        "    #si la opción es igual 2 entonces invocara el metodo eliminar_producto del inventario\n",
        "    elif opcion == \"2\":\n",
        "      id = obtener_entero(\"ID del producto a eliminar: \")\n",
        "      inventario.eliminar_producto(id)\n",
        "    #si la opción es igual 3 entonces invocara el metodo actualizar_producto del inventario\n",
        "    elif opcion == '3':\n",
        "      id = obtener_entero(\"ID del producto a actualizar: \")\n",
        "      nombre = input(\"Nuevo nombre (dejar en blanco para no cambiar): \")\n",
        "      descripcion = input(\"Nueva descripción (dejar en blanco para no cambiar): \")\n",
        "      cantidad_str = input(\"Nueva cantidad (dejar en blanco para no cambiar): \")\n",
        "      precio_str=input(\"Nuevo precio (dejar en blanco para no cambiar): \")\n",
        "      cantidad = int(cantidad_str) if cantidad_str.isdigit() else None #verifica si la cadena de texto esta compuesta de digitos o no, devuelve true/false\n",
        "      precio = float(precio_str) if precio_str.replace('.','', 1).isdigit() else None  #si viene un punto reemplaza por caracter vacio\n",
        "      #si el dato viene vacio lo ingresa como none o en su defecto ingresa el valor\n",
        "      inventario.actualizar_producto(id, nombre if nombre else None, descripcion if descripcion else None, cantidad if cantidad is not None else None, precio if precio is not None else None)\n",
        "    #si la opción es igual 4 entonces invocara el metodo obtener_informacion_produco por id dentro del inventario.\n",
        "    #si lo encuentra despliega información y sino imprime que el id no fue encontrado\n",
        "    elif opcion == '4':\n",
        "      id=obtener_entero(\"ID del producto a mostrar: \")\n",
        "      info=inventario.obtener_informacion_producto(id)\n",
        "      if info:\n",
        "        print(info)\n",
        "      else:\n",
        "        print(f\"Producto con id {id} no encontrado.\")\n",
        "  #si la opción es igual 5 entonces invocara el metodo generar_informe el cual desplegará todo productos del inventario\n",
        "    elif opcion == '5':\n",
        "        inventario.generar_informe()\n",
        "#si la opción es igual 6 entonces sale del sistema\n",
        "#el break funciona para salir del bucle while\n",
        "    elif opcion == '6':\n",
        "      print(\"Saliendo del sistema..\")\n",
        "      break\n",
        "#si ingresa un valor distinto del 1 al 6 entoces imprimira como una opcion no valida\n",
        "    else:\n",
        "      print(\"Opción no válida. Intente de nuevo.\")\n",
        " #el main es para llamar los métodos a otros archivos,\n",
        " # permite que se puedan llamar de a 1, y en el mismo script en qué está escrito, se ejecuta todo el código\n",
        "if __name__==\"__main__\":\n",
        "  main()"
      ],
      "metadata": {
        "colab": {
          "base_uri": "https://localhost:8080/",
          "height": 460
        },
        "id": "-pa9ChItQjku",
        "outputId": "8783a8a3-0552-456b-d4c0-8e0e08d101fc"
      },
      "execution_count": 4,
      "outputs": [
        {
          "output_type": "stream",
          "name": "stdout",
          "text": [
            "\n",
            "Sistema de Gestión de Inventario\n",
            "1. Agregar producto\n",
            "2. Eliminar producto\n",
            "3. Actualizar producto\n",
            "4. Mostrar información de un producto\n",
            "5. Generar informe del inventario\n",
            "6. Salir\n"
          ]
        },
        {
          "output_type": "error",
          "ename": "KeyboardInterrupt",
          "evalue": "Interrupted by user",
          "traceback": [
            "\u001b[0;31m---------------------------------------------------------------------------\u001b[0m",
            "\u001b[0;31mKeyboardInterrupt\u001b[0m                         Traceback (most recent call last)",
            "\u001b[0;32m<ipython-input-4-c3008a87093d>\u001b[0m in \u001b[0;36m<cell line: 56>\u001b[0;34m()\u001b[0m\n\u001b[1;32m     55\u001b[0m  \u001b[0;31m# permite que se puedan llamar de a 1, y en el mismo script en qué está escrito, se ejecuta todo el código\u001b[0m\u001b[0;34m\u001b[0m\u001b[0;34m\u001b[0m\u001b[0m\n\u001b[1;32m     56\u001b[0m \u001b[0;32mif\u001b[0m \u001b[0m__name__\u001b[0m\u001b[0;34m==\u001b[0m\u001b[0;34m\"__main__\"\u001b[0m\u001b[0;34m:\u001b[0m\u001b[0;34m\u001b[0m\u001b[0;34m\u001b[0m\u001b[0m\n\u001b[0;32m---> 57\u001b[0;31m   \u001b[0mmain\u001b[0m\u001b[0;34m(\u001b[0m\u001b[0;34m)\u001b[0m\u001b[0;34m\u001b[0m\u001b[0;34m\u001b[0m\u001b[0m\n\u001b[0m",
            "\u001b[0;32m<ipython-input-4-c3008a87093d>\u001b[0m in \u001b[0;36mmain\u001b[0;34m()\u001b[0m\n\u001b[1;32m      6\u001b[0m   \u001b[0;31m#mientras sea verdadero el parametro ingresado mostrará la funcion mostrar_menu\u001b[0m\u001b[0;34m\u001b[0m\u001b[0;34m\u001b[0m\u001b[0m\n\u001b[1;32m      7\u001b[0m   \u001b[0;32mwhile\u001b[0m \u001b[0;32mTrue\u001b[0m\u001b[0;34m:\u001b[0m\u001b[0;34m\u001b[0m\u001b[0;34m\u001b[0m\u001b[0m\n\u001b[0;32m----> 8\u001b[0;31m     \u001b[0mopcion\u001b[0m \u001b[0;34m=\u001b[0m \u001b[0mmostrar_menu\u001b[0m\u001b[0;34m(\u001b[0m\u001b[0;34m)\u001b[0m\u001b[0;34m\u001b[0m\u001b[0;34m\u001b[0m\u001b[0m\n\u001b[0m\u001b[1;32m      9\u001b[0m     \u001b[0;31m#si la opción es igual 1 entonces invocara el metodo agregar_producto al inventario\u001b[0m\u001b[0;34m\u001b[0m\u001b[0;34m\u001b[0m\u001b[0m\n\u001b[1;32m     10\u001b[0m     \u001b[0;31m#tambien se invocan las funciones reutilizables de obtener_entero y obtener_flotante\u001b[0m\u001b[0;34m\u001b[0m\u001b[0;34m\u001b[0m\u001b[0m\n",
            "\u001b[0;32m<ipython-input-2-4d32f58dcb7c>\u001b[0m in \u001b[0;36mmostrar_menu\u001b[0;34m()\u001b[0m\n\u001b[1;32m     10\u001b[0m   \u001b[0mprint\u001b[0m\u001b[0;34m(\u001b[0m\u001b[0;34m\"5. Generar informe del inventario\"\u001b[0m\u001b[0;34m)\u001b[0m\u001b[0;34m\u001b[0m\u001b[0;34m\u001b[0m\u001b[0m\n\u001b[1;32m     11\u001b[0m   \u001b[0mprint\u001b[0m\u001b[0;34m(\u001b[0m\u001b[0;34m\"6. Salir\"\u001b[0m\u001b[0;34m)\u001b[0m\u001b[0;34m\u001b[0m\u001b[0;34m\u001b[0m\u001b[0m\n\u001b[0;32m---> 12\u001b[0;31m   \u001b[0;32mreturn\u001b[0m \u001b[0minput\u001b[0m\u001b[0;34m(\u001b[0m\u001b[0;34m\"Seleccione una opción: \"\u001b[0m\u001b[0;34m)\u001b[0m\u001b[0;34m\u001b[0m\u001b[0;34m\u001b[0m\u001b[0m\n\u001b[0m\u001b[1;32m     13\u001b[0m \u001b[0;31m#Función reutilizable que valida si es entero o no el valor\u001b[0m\u001b[0;34m\u001b[0m\u001b[0;34m\u001b[0m\u001b[0m\n\u001b[1;32m     14\u001b[0m \u001b[0;31m#El función valida la excepción de error en el caso que no se ingrese el valor esperado\u001b[0m\u001b[0;34m\u001b[0m\u001b[0;34m\u001b[0m\u001b[0m\n",
            "\u001b[0;32m/usr/local/lib/python3.10/dist-packages/ipykernel/kernelbase.py\u001b[0m in \u001b[0;36mraw_input\u001b[0;34m(self, prompt)\u001b[0m\n\u001b[1;32m    849\u001b[0m                 \u001b[0;34m\"raw_input was called, but this frontend does not support input requests.\"\u001b[0m\u001b[0;34m\u001b[0m\u001b[0;34m\u001b[0m\u001b[0m\n\u001b[1;32m    850\u001b[0m             )\n\u001b[0;32m--> 851\u001b[0;31m         return self._input_request(str(prompt),\n\u001b[0m\u001b[1;32m    852\u001b[0m             \u001b[0mself\u001b[0m\u001b[0;34m.\u001b[0m\u001b[0m_parent_ident\u001b[0m\u001b[0;34m,\u001b[0m\u001b[0;34m\u001b[0m\u001b[0;34m\u001b[0m\u001b[0m\n\u001b[1;32m    853\u001b[0m             \u001b[0mself\u001b[0m\u001b[0;34m.\u001b[0m\u001b[0m_parent_header\u001b[0m\u001b[0;34m,\u001b[0m\u001b[0;34m\u001b[0m\u001b[0;34m\u001b[0m\u001b[0m\n",
            "\u001b[0;32m/usr/local/lib/python3.10/dist-packages/ipykernel/kernelbase.py\u001b[0m in \u001b[0;36m_input_request\u001b[0;34m(self, prompt, ident, parent, password)\u001b[0m\n\u001b[1;32m    893\u001b[0m             \u001b[0;32mexcept\u001b[0m \u001b[0mKeyboardInterrupt\u001b[0m\u001b[0;34m:\u001b[0m\u001b[0;34m\u001b[0m\u001b[0;34m\u001b[0m\u001b[0m\n\u001b[1;32m    894\u001b[0m                 \u001b[0;31m# re-raise KeyboardInterrupt, to truncate traceback\u001b[0m\u001b[0;34m\u001b[0m\u001b[0;34m\u001b[0m\u001b[0m\n\u001b[0;32m--> 895\u001b[0;31m                 \u001b[0;32mraise\u001b[0m \u001b[0mKeyboardInterrupt\u001b[0m\u001b[0;34m(\u001b[0m\u001b[0;34m\"Interrupted by user\"\u001b[0m\u001b[0;34m)\u001b[0m \u001b[0;32mfrom\u001b[0m \u001b[0;32mNone\u001b[0m\u001b[0;34m\u001b[0m\u001b[0;34m\u001b[0m\u001b[0m\n\u001b[0m\u001b[1;32m    896\u001b[0m             \u001b[0;32mexcept\u001b[0m \u001b[0mException\u001b[0m \u001b[0;32mas\u001b[0m \u001b[0me\u001b[0m\u001b[0;34m:\u001b[0m\u001b[0;34m\u001b[0m\u001b[0;34m\u001b[0m\u001b[0m\n\u001b[1;32m    897\u001b[0m                 \u001b[0mself\u001b[0m\u001b[0;34m.\u001b[0m\u001b[0mlog\u001b[0m\u001b[0;34m.\u001b[0m\u001b[0mwarning\u001b[0m\u001b[0;34m(\u001b[0m\u001b[0;34m\"Invalid Message:\"\u001b[0m\u001b[0;34m,\u001b[0m \u001b[0mexc_info\u001b[0m\u001b[0;34m=\u001b[0m\u001b[0;32mTrue\u001b[0m\u001b[0;34m)\u001b[0m\u001b[0;34m\u001b[0m\u001b[0;34m\u001b[0m\u001b[0m\n",
            "\u001b[0;31mKeyboardInterrupt\u001b[0m: Interrupted by user"
          ]
        }
      ]
    }
  ]
}